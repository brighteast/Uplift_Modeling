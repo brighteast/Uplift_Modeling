{
 "cells": [
  {
   "cell_type": "markdown",
   "id": "6c56c103",
   "metadata": {},
   "source": [
    "# 광고 마케팅을 위한 Uplift Modeling 분석"
   ]
  },
  {
   "cell_type": "code",
   "execution_count": 259,
   "id": "332b6ce0",
   "metadata": {},
   "outputs": [],
   "source": [
    "import pandas as pd\n",
    "import numpy as np\n",
    "import matplotlib.pyplot as plt\n",
    "import seaborn as sns\n",
    "import warnings\n",
    "warnings.filterwarnings('ignore')\n",
    "from sklearn.model_selection import train_test_split\n",
    "from sklearn.cluster import KMeans\n",
    "import sklearn\n",
    "import xgboost as xgb\n",
    "from sklearn.model_selection import GridSearchCV"
   ]
  },
  {
   "cell_type": "code",
   "execution_count": 260,
   "id": "e7db02a5",
   "metadata": {},
   "outputs": [
    {
     "name": "stdout",
     "output_type": "stream",
     "text": [
      "{'DESCR': 'This dataset contains 64,000 customers who last purchased within twelve months. The customers were involved in an e-mail test. 1/3 were randomly chosen to receive an e-mail campaign featuring Mens merchandise. 1/3 were randomly chosen to receive an e-mail campaign featuring Womens merchandise. 1/3 were randomly chosen to not receive an e-mail campaign. During a period of two weeks following the e-mail campaign, results were tracked. Your job is to tell the world if the Mens or Womens e-mail campaign was successful.', 'data': array([[ 10.  , 142.44,   1.  , ...,   0.  ,   1.  ,   0.  ],\n",
      "       [  6.  , 329.08,   1.  , ...,   0.  ,   0.  ,   1.  ],\n",
      "       [  7.  , 180.65,   0.  , ...,   0.  ,   0.  ,   1.  ],\n",
      "       ...,\n",
      "       [  6.  ,  29.99,   1.  , ...,   0.  ,   1.  ,   0.  ],\n",
      "       [  1.  , 552.94,   1.  , ...,   1.  ,   0.  ,   0.  ],\n",
      "       [  1.  , 472.82,   0.  , ...,   0.  ,   0.  ,   1.  ]]), 'feature_names': ['recency', 'history', 'mens', 'womens', 'newbie', 'zip_code_Rural', 'zip_code_Surburban', 'zip_code_Urban', 'history_segment_$0 - $100', 'history_segment_$1,000 +', 'history_segment_$100 - $200', 'history_segment_$200 - $350', 'history_segment_$350 - $500', 'history_segment_$500 - $750', 'history_segment_$750 - $1,000', 'channel_Multichannel', 'channel_Phone', 'channel_Web'], 'treatment': array([2, 0, 2, ..., 1, 2, 1], dtype=int64), 'target': array([0., 0., 0., ..., 0., 0., 0.]), 'target_spend': array([0., 0., 0., ..., 0., 0., 0.]), 'target_visit': array([0, 0, 0, ..., 0, 0, 0], dtype=int64), 'target_conversion': array([0, 0, 0, ..., 0, 0, 0], dtype=int64)}\n"
     ]
    }
   ],
   "source": [
    "from pyuplift.datasets import load_hillstrom_email_marketing\n",
    "df = load_hillstrom_email_marketing()\n",
    "print(df)"
   ]
  },
  {
   "cell_type": "markdown",
   "id": "53c92660",
   "metadata": {},
   "source": [
    "<br>\n",
    "Recency : 가장 최근 구매 달<br>\n",
    "History_Segement : 작년에 지출 금액을 기준으로 카테고리화(집단 구분을 위함)<br>\n",
    "History : 작년 실제 지출금액<br>\n",
    "Mens: 1 = 작년에 남자 상품을 샀던 고객<br>\n",
    "Womens: 1 = 작년에 여성 상품을 샀던 고객<br>\n",
    "Zip_Code : Urban, Suburban, Rural 로 분류<br>\n",
    "Newbie : 지난 12개월간 신규고객<br>\n",
    "Channel: 결제 수단을 분류<br>"
   ]
  },
  {
   "cell_type": "code",
   "execution_count": 261,
   "id": "d518dbf0",
   "metadata": {
    "scrolled": true
   },
   "outputs": [
    {
     "data": {
      "text/plain": [
       "['recency',\n",
       " 'history',\n",
       " 'mens',\n",
       " 'womens',\n",
       " 'newbie',\n",
       " 'zip_code_Rural',\n",
       " 'zip_code_Surburban',\n",
       " 'zip_code_Urban',\n",
       " 'history_segment_$0 - $100',\n",
       " 'history_segment_$1,000 +',\n",
       " 'history_segment_$100 - $200',\n",
       " 'history_segment_$200 - $350',\n",
       " 'history_segment_$350 - $500',\n",
       " 'history_segment_$500 - $750',\n",
       " 'history_segment_$750 - $1,000',\n",
       " 'channel_Multichannel',\n",
       " 'channel_Phone',\n",
       " 'channel_Web']"
      ]
     },
     "execution_count": 261,
     "metadata": {},
     "output_type": "execute_result"
    }
   ],
   "source": [
    "df['feature_names'] # 데이터 feature 이름들"
   ]
  },
  {
   "cell_type": "code",
   "execution_count": 262,
   "id": "9b3e1c89",
   "metadata": {},
   "outputs": [
    {
     "data": {
      "text/plain": [
       "array([[ 10.  , 142.44,   1.  , ...,   0.  ,   1.  ,   0.  ],\n",
       "       [  6.  , 329.08,   1.  , ...,   0.  ,   0.  ,   1.  ],\n",
       "       [  7.  , 180.65,   0.  , ...,   0.  ,   0.  ,   1.  ],\n",
       "       ...,\n",
       "       [  6.  ,  29.99,   1.  , ...,   0.  ,   1.  ,   0.  ],\n",
       "       [  1.  , 552.94,   1.  , ...,   1.  ,   0.  ,   0.  ],\n",
       "       [  1.  , 472.82,   0.  , ...,   0.  ,   0.  ,   1.  ]])"
      ]
     },
     "execution_count": 262,
     "metadata": {},
     "output_type": "execute_result"
    }
   ],
   "source": [
    "df['data'] # feature에 상응하는 데이터"
   ]
  },
  {
   "cell_type": "code",
   "execution_count": 263,
   "id": "9b47c248",
   "metadata": {},
   "outputs": [
    {
     "data": {
      "text/html": [
       "<div>\n",
       "<style scoped>\n",
       "    .dataframe tbody tr th:only-of-type {\n",
       "        vertical-align: middle;\n",
       "    }\n",
       "\n",
       "    .dataframe tbody tr th {\n",
       "        vertical-align: top;\n",
       "    }\n",
       "\n",
       "    .dataframe thead th {\n",
       "        text-align: right;\n",
       "    }\n",
       "</style>\n",
       "<table border=\"1\" class=\"dataframe\">\n",
       "  <thead>\n",
       "    <tr style=\"text-align: right;\">\n",
       "      <th></th>\n",
       "      <th>recency</th>\n",
       "      <th>history</th>\n",
       "      <th>mens</th>\n",
       "      <th>womens</th>\n",
       "      <th>newbie</th>\n",
       "      <th>zip_code_Rural</th>\n",
       "      <th>zip_code_Surburban</th>\n",
       "      <th>zip_code_Urban</th>\n",
       "      <th>history_segment_$0 - $100</th>\n",
       "      <th>history_segment_$1,000 +</th>\n",
       "      <th>history_segment_$100 - $200</th>\n",
       "      <th>history_segment_$200 - $350</th>\n",
       "      <th>history_segment_$350 - $500</th>\n",
       "      <th>history_segment_$500 - $750</th>\n",
       "      <th>history_segment_$750 - $1,000</th>\n",
       "      <th>channel_Multichannel</th>\n",
       "      <th>channel_Phone</th>\n",
       "      <th>channel_Web</th>\n",
       "    </tr>\n",
       "  </thead>\n",
       "  <tbody>\n",
       "    <tr>\n",
       "      <th>0</th>\n",
       "      <td>10.0</td>\n",
       "      <td>142.44</td>\n",
       "      <td>1.0</td>\n",
       "      <td>0.0</td>\n",
       "      <td>0.0</td>\n",
       "      <td>0.0</td>\n",
       "      <td>1.0</td>\n",
       "      <td>0.0</td>\n",
       "      <td>0.0</td>\n",
       "      <td>0.0</td>\n",
       "      <td>1.0</td>\n",
       "      <td>0.0</td>\n",
       "      <td>0.0</td>\n",
       "      <td>0.0</td>\n",
       "      <td>0.0</td>\n",
       "      <td>0.0</td>\n",
       "      <td>1.0</td>\n",
       "      <td>0.0</td>\n",
       "    </tr>\n",
       "    <tr>\n",
       "      <th>1</th>\n",
       "      <td>6.0</td>\n",
       "      <td>329.08</td>\n",
       "      <td>1.0</td>\n",
       "      <td>1.0</td>\n",
       "      <td>1.0</td>\n",
       "      <td>1.0</td>\n",
       "      <td>0.0</td>\n",
       "      <td>0.0</td>\n",
       "      <td>0.0</td>\n",
       "      <td>0.0</td>\n",
       "      <td>0.0</td>\n",
       "      <td>1.0</td>\n",
       "      <td>0.0</td>\n",
       "      <td>0.0</td>\n",
       "      <td>0.0</td>\n",
       "      <td>0.0</td>\n",
       "      <td>0.0</td>\n",
       "      <td>1.0</td>\n",
       "    </tr>\n",
       "    <tr>\n",
       "      <th>2</th>\n",
       "      <td>7.0</td>\n",
       "      <td>180.65</td>\n",
       "      <td>0.0</td>\n",
       "      <td>1.0</td>\n",
       "      <td>1.0</td>\n",
       "      <td>0.0</td>\n",
       "      <td>1.0</td>\n",
       "      <td>0.0</td>\n",
       "      <td>0.0</td>\n",
       "      <td>0.0</td>\n",
       "      <td>1.0</td>\n",
       "      <td>0.0</td>\n",
       "      <td>0.0</td>\n",
       "      <td>0.0</td>\n",
       "      <td>0.0</td>\n",
       "      <td>0.0</td>\n",
       "      <td>0.0</td>\n",
       "      <td>1.0</td>\n",
       "    </tr>\n",
       "    <tr>\n",
       "      <th>3</th>\n",
       "      <td>9.0</td>\n",
       "      <td>675.83</td>\n",
       "      <td>1.0</td>\n",
       "      <td>0.0</td>\n",
       "      <td>1.0</td>\n",
       "      <td>1.0</td>\n",
       "      <td>0.0</td>\n",
       "      <td>0.0</td>\n",
       "      <td>0.0</td>\n",
       "      <td>0.0</td>\n",
       "      <td>0.0</td>\n",
       "      <td>0.0</td>\n",
       "      <td>0.0</td>\n",
       "      <td>1.0</td>\n",
       "      <td>0.0</td>\n",
       "      <td>0.0</td>\n",
       "      <td>0.0</td>\n",
       "      <td>1.0</td>\n",
       "    </tr>\n",
       "    <tr>\n",
       "      <th>4</th>\n",
       "      <td>2.0</td>\n",
       "      <td>45.34</td>\n",
       "      <td>1.0</td>\n",
       "      <td>0.0</td>\n",
       "      <td>0.0</td>\n",
       "      <td>0.0</td>\n",
       "      <td>0.0</td>\n",
       "      <td>1.0</td>\n",
       "      <td>1.0</td>\n",
       "      <td>0.0</td>\n",
       "      <td>0.0</td>\n",
       "      <td>0.0</td>\n",
       "      <td>0.0</td>\n",
       "      <td>0.0</td>\n",
       "      <td>0.0</td>\n",
       "      <td>0.0</td>\n",
       "      <td>0.0</td>\n",
       "      <td>1.0</td>\n",
       "    </tr>\n",
       "    <tr>\n",
       "      <th>...</th>\n",
       "      <td>...</td>\n",
       "      <td>...</td>\n",
       "      <td>...</td>\n",
       "      <td>...</td>\n",
       "      <td>...</td>\n",
       "      <td>...</td>\n",
       "      <td>...</td>\n",
       "      <td>...</td>\n",
       "      <td>...</td>\n",
       "      <td>...</td>\n",
       "      <td>...</td>\n",
       "      <td>...</td>\n",
       "      <td>...</td>\n",
       "      <td>...</td>\n",
       "      <td>...</td>\n",
       "      <td>...</td>\n",
       "      <td>...</td>\n",
       "      <td>...</td>\n",
       "    </tr>\n",
       "    <tr>\n",
       "      <th>63995</th>\n",
       "      <td>10.0</td>\n",
       "      <td>105.54</td>\n",
       "      <td>1.0</td>\n",
       "      <td>0.0</td>\n",
       "      <td>0.0</td>\n",
       "      <td>0.0</td>\n",
       "      <td>0.0</td>\n",
       "      <td>1.0</td>\n",
       "      <td>0.0</td>\n",
       "      <td>0.0</td>\n",
       "      <td>1.0</td>\n",
       "      <td>0.0</td>\n",
       "      <td>0.0</td>\n",
       "      <td>0.0</td>\n",
       "      <td>0.0</td>\n",
       "      <td>0.0</td>\n",
       "      <td>0.0</td>\n",
       "      <td>1.0</td>\n",
       "    </tr>\n",
       "    <tr>\n",
       "      <th>63996</th>\n",
       "      <td>5.0</td>\n",
       "      <td>38.91</td>\n",
       "      <td>0.0</td>\n",
       "      <td>1.0</td>\n",
       "      <td>1.0</td>\n",
       "      <td>0.0</td>\n",
       "      <td>0.0</td>\n",
       "      <td>1.0</td>\n",
       "      <td>1.0</td>\n",
       "      <td>0.0</td>\n",
       "      <td>0.0</td>\n",
       "      <td>0.0</td>\n",
       "      <td>0.0</td>\n",
       "      <td>0.0</td>\n",
       "      <td>0.0</td>\n",
       "      <td>0.0</td>\n",
       "      <td>1.0</td>\n",
       "      <td>0.0</td>\n",
       "    </tr>\n",
       "    <tr>\n",
       "      <th>63997</th>\n",
       "      <td>6.0</td>\n",
       "      <td>29.99</td>\n",
       "      <td>1.0</td>\n",
       "      <td>0.0</td>\n",
       "      <td>1.0</td>\n",
       "      <td>0.0</td>\n",
       "      <td>0.0</td>\n",
       "      <td>1.0</td>\n",
       "      <td>1.0</td>\n",
       "      <td>0.0</td>\n",
       "      <td>0.0</td>\n",
       "      <td>0.0</td>\n",
       "      <td>0.0</td>\n",
       "      <td>0.0</td>\n",
       "      <td>0.0</td>\n",
       "      <td>0.0</td>\n",
       "      <td>1.0</td>\n",
       "      <td>0.0</td>\n",
       "    </tr>\n",
       "    <tr>\n",
       "      <th>63998</th>\n",
       "      <td>1.0</td>\n",
       "      <td>552.94</td>\n",
       "      <td>1.0</td>\n",
       "      <td>0.0</td>\n",
       "      <td>1.0</td>\n",
       "      <td>0.0</td>\n",
       "      <td>1.0</td>\n",
       "      <td>0.0</td>\n",
       "      <td>0.0</td>\n",
       "      <td>0.0</td>\n",
       "      <td>0.0</td>\n",
       "      <td>0.0</td>\n",
       "      <td>0.0</td>\n",
       "      <td>1.0</td>\n",
       "      <td>0.0</td>\n",
       "      <td>1.0</td>\n",
       "      <td>0.0</td>\n",
       "      <td>0.0</td>\n",
       "    </tr>\n",
       "    <tr>\n",
       "      <th>63999</th>\n",
       "      <td>1.0</td>\n",
       "      <td>472.82</td>\n",
       "      <td>0.0</td>\n",
       "      <td>1.0</td>\n",
       "      <td>0.0</td>\n",
       "      <td>0.0</td>\n",
       "      <td>1.0</td>\n",
       "      <td>0.0</td>\n",
       "      <td>0.0</td>\n",
       "      <td>0.0</td>\n",
       "      <td>0.0</td>\n",
       "      <td>0.0</td>\n",
       "      <td>1.0</td>\n",
       "      <td>0.0</td>\n",
       "      <td>0.0</td>\n",
       "      <td>0.0</td>\n",
       "      <td>0.0</td>\n",
       "      <td>1.0</td>\n",
       "    </tr>\n",
       "  </tbody>\n",
       "</table>\n",
       "<p>64000 rows × 18 columns</p>\n",
       "</div>"
      ],
      "text/plain": [
       "       recency  history  mens  womens  newbie  zip_code_Rural  \\\n",
       "0         10.0   142.44   1.0     0.0     0.0             0.0   \n",
       "1          6.0   329.08   1.0     1.0     1.0             1.0   \n",
       "2          7.0   180.65   0.0     1.0     1.0             0.0   \n",
       "3          9.0   675.83   1.0     0.0     1.0             1.0   \n",
       "4          2.0    45.34   1.0     0.0     0.0             0.0   \n",
       "...        ...      ...   ...     ...     ...             ...   \n",
       "63995     10.0   105.54   1.0     0.0     0.0             0.0   \n",
       "63996      5.0    38.91   0.0     1.0     1.0             0.0   \n",
       "63997      6.0    29.99   1.0     0.0     1.0             0.0   \n",
       "63998      1.0   552.94   1.0     0.0     1.0             0.0   \n",
       "63999      1.0   472.82   0.0     1.0     0.0             0.0   \n",
       "\n",
       "       zip_code_Surburban  zip_code_Urban  history_segment_$0 - $100  \\\n",
       "0                     1.0             0.0                        0.0   \n",
       "1                     0.0             0.0                        0.0   \n",
       "2                     1.0             0.0                        0.0   \n",
       "3                     0.0             0.0                        0.0   \n",
       "4                     0.0             1.0                        1.0   \n",
       "...                   ...             ...                        ...   \n",
       "63995                 0.0             1.0                        0.0   \n",
       "63996                 0.0             1.0                        1.0   \n",
       "63997                 0.0             1.0                        1.0   \n",
       "63998                 1.0             0.0                        0.0   \n",
       "63999                 1.0             0.0                        0.0   \n",
       "\n",
       "       history_segment_$1,000 +  history_segment_$100 - $200  \\\n",
       "0                           0.0                          1.0   \n",
       "1                           0.0                          0.0   \n",
       "2                           0.0                          1.0   \n",
       "3                           0.0                          0.0   \n",
       "4                           0.0                          0.0   \n",
       "...                         ...                          ...   \n",
       "63995                       0.0                          1.0   \n",
       "63996                       0.0                          0.0   \n",
       "63997                       0.0                          0.0   \n",
       "63998                       0.0                          0.0   \n",
       "63999                       0.0                          0.0   \n",
       "\n",
       "       history_segment_$200 - $350  history_segment_$350 - $500  \\\n",
       "0                              0.0                          0.0   \n",
       "1                              1.0                          0.0   \n",
       "2                              0.0                          0.0   \n",
       "3                              0.0                          0.0   \n",
       "4                              0.0                          0.0   \n",
       "...                            ...                          ...   \n",
       "63995                          0.0                          0.0   \n",
       "63996                          0.0                          0.0   \n",
       "63997                          0.0                          0.0   \n",
       "63998                          0.0                          0.0   \n",
       "63999                          0.0                          1.0   \n",
       "\n",
       "       history_segment_$500 - $750  history_segment_$750 - $1,000  \\\n",
       "0                              0.0                            0.0   \n",
       "1                              0.0                            0.0   \n",
       "2                              0.0                            0.0   \n",
       "3                              1.0                            0.0   \n",
       "4                              0.0                            0.0   \n",
       "...                            ...                            ...   \n",
       "63995                          0.0                            0.0   \n",
       "63996                          0.0                            0.0   \n",
       "63997                          0.0                            0.0   \n",
       "63998                          1.0                            0.0   \n",
       "63999                          0.0                            0.0   \n",
       "\n",
       "       channel_Multichannel  channel_Phone  channel_Web  \n",
       "0                       0.0            1.0          0.0  \n",
       "1                       0.0            0.0          1.0  \n",
       "2                       0.0            0.0          1.0  \n",
       "3                       0.0            0.0          1.0  \n",
       "4                       0.0            0.0          1.0  \n",
       "...                     ...            ...          ...  \n",
       "63995                   0.0            0.0          1.0  \n",
       "63996                   0.0            1.0          0.0  \n",
       "63997                   0.0            1.0          0.0  \n",
       "63998                   1.0            0.0          0.0  \n",
       "63999                   0.0            0.0          1.0  \n",
       "\n",
       "[64000 rows x 18 columns]"
      ]
     },
     "execution_count": 263,
     "metadata": {},
     "output_type": "execute_result"
    }
   ],
   "source": [
    "new_df = pd.DataFrame(df['data'], columns = df['feature_names'])\n",
    "new_df"
   ]
  },
  {
   "cell_type": "code",
   "execution_count": 264,
   "id": "e8b27551",
   "metadata": {},
   "outputs": [
    {
     "data": {
      "text/plain": [
       "array([2, 0, 2, ..., 1, 2, 1], dtype=int64)"
      ]
     },
     "execution_count": 264,
     "metadata": {},
     "output_type": "execute_result"
    }
   ],
   "source": [
    "df['treatment'] # 처치 0: 광고메일을 받지 않음 1: 남자 상품에 대한 광고메일을 받음 2: 여자 상품에 대한 광고메일을 받음"
   ]
  },
  {
   "cell_type": "code",
   "execution_count": 265,
   "id": "cfa38e85",
   "metadata": {},
   "outputs": [],
   "source": [
    "new_df['treatment'] = df['treatment']"
   ]
  },
  {
   "cell_type": "code",
   "execution_count": 266,
   "id": "4fb4d681",
   "metadata": {},
   "outputs": [
    {
     "data": {
      "text/plain": [
       "array([0, 0, 0, ..., 0, 0, 0], dtype=int64)"
      ]
     },
     "execution_count": 266,
     "metadata": {},
     "output_type": "execute_result"
    }
   ],
   "source": [
    "df['target_visit'] # 1: 광고메일 후 2주안에 웹사이트를 방문한 고객"
   ]
  },
  {
   "cell_type": "code",
   "execution_count": 267,
   "id": "2d96d325",
   "metadata": {},
   "outputs": [
    {
     "data": {
      "text/plain": [
       "array([0, 0, 0, ..., 0, 0, 0], dtype=int64)"
      ]
     },
     "execution_count": 267,
     "metadata": {},
     "output_type": "execute_result"
    }
   ],
   "source": [
    "df['target_conversion'] # 1: 광고메일 후 2주안에 상품을 구매한 고객"
   ]
  },
  {
   "cell_type": "code",
   "execution_count": 268,
   "id": "e982f595",
   "metadata": {},
   "outputs": [
    {
     "data": {
      "text/plain": [
       "array([0., 0., 0., ..., 0., 0., 0.])"
      ]
     },
     "execution_count": 268,
     "metadata": {},
     "output_type": "execute_result"
    }
   ],
   "source": [
    "df['target_spend'] # 1: 광고메일 후 2주안에 상품들을 실제 구매한 가격"
   ]
  },
  {
   "cell_type": "code",
   "execution_count": 269,
   "id": "6d73add2",
   "metadata": {
    "scrolled": true
   },
   "outputs": [],
   "source": [
    "data = np.concatenate((df['target_visit'].reshape(-1,1),df['target_conversion'].reshape(-1,1),df['target_spend'].reshape(-1,1)), axis =1)"
   ]
  },
  {
   "cell_type": "code",
   "execution_count": 270,
   "id": "382bfa1d",
   "metadata": {},
   "outputs": [],
   "source": [
    "target_df = pd.DataFrame(data = data, columns = ['target_visit','target_conversion','target_spend'])"
   ]
  },
  {
   "cell_type": "code",
   "execution_count": 271,
   "id": "20347cb0",
   "metadata": {},
   "outputs": [
    {
     "data": {
      "text/html": [
       "<div>\n",
       "<style scoped>\n",
       "    .dataframe tbody tr th:only-of-type {\n",
       "        vertical-align: middle;\n",
       "    }\n",
       "\n",
       "    .dataframe tbody tr th {\n",
       "        vertical-align: top;\n",
       "    }\n",
       "\n",
       "    .dataframe thead th {\n",
       "        text-align: right;\n",
       "    }\n",
       "</style>\n",
       "<table border=\"1\" class=\"dataframe\">\n",
       "  <thead>\n",
       "    <tr style=\"text-align: right;\">\n",
       "      <th></th>\n",
       "      <th>target_visit</th>\n",
       "      <th>target_conversion</th>\n",
       "      <th>target_spend</th>\n",
       "    </tr>\n",
       "  </thead>\n",
       "  <tbody>\n",
       "    <tr>\n",
       "      <th>0</th>\n",
       "      <td>0.0</td>\n",
       "      <td>0.0</td>\n",
       "      <td>0.0</td>\n",
       "    </tr>\n",
       "    <tr>\n",
       "      <th>1</th>\n",
       "      <td>0.0</td>\n",
       "      <td>0.0</td>\n",
       "      <td>0.0</td>\n",
       "    </tr>\n",
       "    <tr>\n",
       "      <th>2</th>\n",
       "      <td>0.0</td>\n",
       "      <td>0.0</td>\n",
       "      <td>0.0</td>\n",
       "    </tr>\n",
       "    <tr>\n",
       "      <th>3</th>\n",
       "      <td>0.0</td>\n",
       "      <td>0.0</td>\n",
       "      <td>0.0</td>\n",
       "    </tr>\n",
       "    <tr>\n",
       "      <th>4</th>\n",
       "      <td>0.0</td>\n",
       "      <td>0.0</td>\n",
       "      <td>0.0</td>\n",
       "    </tr>\n",
       "    <tr>\n",
       "      <th>...</th>\n",
       "      <td>...</td>\n",
       "      <td>...</td>\n",
       "      <td>...</td>\n",
       "    </tr>\n",
       "    <tr>\n",
       "      <th>63995</th>\n",
       "      <td>0.0</td>\n",
       "      <td>0.0</td>\n",
       "      <td>0.0</td>\n",
       "    </tr>\n",
       "    <tr>\n",
       "      <th>63996</th>\n",
       "      <td>0.0</td>\n",
       "      <td>0.0</td>\n",
       "      <td>0.0</td>\n",
       "    </tr>\n",
       "    <tr>\n",
       "      <th>63997</th>\n",
       "      <td>0.0</td>\n",
       "      <td>0.0</td>\n",
       "      <td>0.0</td>\n",
       "    </tr>\n",
       "    <tr>\n",
       "      <th>63998</th>\n",
       "      <td>0.0</td>\n",
       "      <td>0.0</td>\n",
       "      <td>0.0</td>\n",
       "    </tr>\n",
       "    <tr>\n",
       "      <th>63999</th>\n",
       "      <td>0.0</td>\n",
       "      <td>0.0</td>\n",
       "      <td>0.0</td>\n",
       "    </tr>\n",
       "  </tbody>\n",
       "</table>\n",
       "<p>64000 rows × 3 columns</p>\n",
       "</div>"
      ],
      "text/plain": [
       "       target_visit  target_conversion  target_spend\n",
       "0               0.0                0.0           0.0\n",
       "1               0.0                0.0           0.0\n",
       "2               0.0                0.0           0.0\n",
       "3               0.0                0.0           0.0\n",
       "4               0.0                0.0           0.0\n",
       "...             ...                ...           ...\n",
       "63995           0.0                0.0           0.0\n",
       "63996           0.0                0.0           0.0\n",
       "63997           0.0                0.0           0.0\n",
       "63998           0.0                0.0           0.0\n",
       "63999           0.0                0.0           0.0\n",
       "\n",
       "[64000 rows x 3 columns]"
      ]
     },
     "execution_count": 271,
     "metadata": {},
     "output_type": "execute_result"
    }
   ],
   "source": [
    "target_df"
   ]
  },
  {
   "cell_type": "code",
   "execution_count": 272,
   "id": "e3aa845c",
   "metadata": {},
   "outputs": [],
   "source": [
    "result = pd.concat([new_df,target_df],axis=1)"
   ]
  },
  {
   "cell_type": "code",
   "execution_count": 273,
   "id": "4daacac0",
   "metadata": {},
   "outputs": [
    {
     "data": {
      "text/html": [
       "<div>\n",
       "<style scoped>\n",
       "    .dataframe tbody tr th:only-of-type {\n",
       "        vertical-align: middle;\n",
       "    }\n",
       "\n",
       "    .dataframe tbody tr th {\n",
       "        vertical-align: top;\n",
       "    }\n",
       "\n",
       "    .dataframe thead th {\n",
       "        text-align: right;\n",
       "    }\n",
       "</style>\n",
       "<table border=\"1\" class=\"dataframe\">\n",
       "  <thead>\n",
       "    <tr style=\"text-align: right;\">\n",
       "      <th></th>\n",
       "      <th>recency</th>\n",
       "      <th>history</th>\n",
       "      <th>mens</th>\n",
       "      <th>womens</th>\n",
       "      <th>newbie</th>\n",
       "      <th>zip_code_Rural</th>\n",
       "      <th>zip_code_Surburban</th>\n",
       "      <th>zip_code_Urban</th>\n",
       "      <th>history_segment_$0 - $100</th>\n",
       "      <th>history_segment_$1,000 +</th>\n",
       "      <th>...</th>\n",
       "      <th>history_segment_$350 - $500</th>\n",
       "      <th>history_segment_$500 - $750</th>\n",
       "      <th>history_segment_$750 - $1,000</th>\n",
       "      <th>channel_Multichannel</th>\n",
       "      <th>channel_Phone</th>\n",
       "      <th>channel_Web</th>\n",
       "      <th>treatment</th>\n",
       "      <th>target_visit</th>\n",
       "      <th>target_conversion</th>\n",
       "      <th>target_spend</th>\n",
       "    </tr>\n",
       "  </thead>\n",
       "  <tbody>\n",
       "    <tr>\n",
       "      <th>0</th>\n",
       "      <td>10.0</td>\n",
       "      <td>142.44</td>\n",
       "      <td>1.0</td>\n",
       "      <td>0.0</td>\n",
       "      <td>0.0</td>\n",
       "      <td>0.0</td>\n",
       "      <td>1.0</td>\n",
       "      <td>0.0</td>\n",
       "      <td>0.0</td>\n",
       "      <td>0.0</td>\n",
       "      <td>...</td>\n",
       "      <td>0.0</td>\n",
       "      <td>0.0</td>\n",
       "      <td>0.0</td>\n",
       "      <td>0.0</td>\n",
       "      <td>1.0</td>\n",
       "      <td>0.0</td>\n",
       "      <td>2</td>\n",
       "      <td>0.0</td>\n",
       "      <td>0.0</td>\n",
       "      <td>0.0</td>\n",
       "    </tr>\n",
       "    <tr>\n",
       "      <th>1</th>\n",
       "      <td>6.0</td>\n",
       "      <td>329.08</td>\n",
       "      <td>1.0</td>\n",
       "      <td>1.0</td>\n",
       "      <td>1.0</td>\n",
       "      <td>1.0</td>\n",
       "      <td>0.0</td>\n",
       "      <td>0.0</td>\n",
       "      <td>0.0</td>\n",
       "      <td>0.0</td>\n",
       "      <td>...</td>\n",
       "      <td>0.0</td>\n",
       "      <td>0.0</td>\n",
       "      <td>0.0</td>\n",
       "      <td>0.0</td>\n",
       "      <td>0.0</td>\n",
       "      <td>1.0</td>\n",
       "      <td>0</td>\n",
       "      <td>0.0</td>\n",
       "      <td>0.0</td>\n",
       "      <td>0.0</td>\n",
       "    </tr>\n",
       "    <tr>\n",
       "      <th>2</th>\n",
       "      <td>7.0</td>\n",
       "      <td>180.65</td>\n",
       "      <td>0.0</td>\n",
       "      <td>1.0</td>\n",
       "      <td>1.0</td>\n",
       "      <td>0.0</td>\n",
       "      <td>1.0</td>\n",
       "      <td>0.0</td>\n",
       "      <td>0.0</td>\n",
       "      <td>0.0</td>\n",
       "      <td>...</td>\n",
       "      <td>0.0</td>\n",
       "      <td>0.0</td>\n",
       "      <td>0.0</td>\n",
       "      <td>0.0</td>\n",
       "      <td>0.0</td>\n",
       "      <td>1.0</td>\n",
       "      <td>2</td>\n",
       "      <td>0.0</td>\n",
       "      <td>0.0</td>\n",
       "      <td>0.0</td>\n",
       "    </tr>\n",
       "    <tr>\n",
       "      <th>3</th>\n",
       "      <td>9.0</td>\n",
       "      <td>675.83</td>\n",
       "      <td>1.0</td>\n",
       "      <td>0.0</td>\n",
       "      <td>1.0</td>\n",
       "      <td>1.0</td>\n",
       "      <td>0.0</td>\n",
       "      <td>0.0</td>\n",
       "      <td>0.0</td>\n",
       "      <td>0.0</td>\n",
       "      <td>...</td>\n",
       "      <td>0.0</td>\n",
       "      <td>1.0</td>\n",
       "      <td>0.0</td>\n",
       "      <td>0.0</td>\n",
       "      <td>0.0</td>\n",
       "      <td>1.0</td>\n",
       "      <td>1</td>\n",
       "      <td>0.0</td>\n",
       "      <td>0.0</td>\n",
       "      <td>0.0</td>\n",
       "    </tr>\n",
       "    <tr>\n",
       "      <th>4</th>\n",
       "      <td>2.0</td>\n",
       "      <td>45.34</td>\n",
       "      <td>1.0</td>\n",
       "      <td>0.0</td>\n",
       "      <td>0.0</td>\n",
       "      <td>0.0</td>\n",
       "      <td>0.0</td>\n",
       "      <td>1.0</td>\n",
       "      <td>1.0</td>\n",
       "      <td>0.0</td>\n",
       "      <td>...</td>\n",
       "      <td>0.0</td>\n",
       "      <td>0.0</td>\n",
       "      <td>0.0</td>\n",
       "      <td>0.0</td>\n",
       "      <td>0.0</td>\n",
       "      <td>1.0</td>\n",
       "      <td>2</td>\n",
       "      <td>0.0</td>\n",
       "      <td>0.0</td>\n",
       "      <td>0.0</td>\n",
       "    </tr>\n",
       "    <tr>\n",
       "      <th>...</th>\n",
       "      <td>...</td>\n",
       "      <td>...</td>\n",
       "      <td>...</td>\n",
       "      <td>...</td>\n",
       "      <td>...</td>\n",
       "      <td>...</td>\n",
       "      <td>...</td>\n",
       "      <td>...</td>\n",
       "      <td>...</td>\n",
       "      <td>...</td>\n",
       "      <td>...</td>\n",
       "      <td>...</td>\n",
       "      <td>...</td>\n",
       "      <td>...</td>\n",
       "      <td>...</td>\n",
       "      <td>...</td>\n",
       "      <td>...</td>\n",
       "      <td>...</td>\n",
       "      <td>...</td>\n",
       "      <td>...</td>\n",
       "      <td>...</td>\n",
       "    </tr>\n",
       "    <tr>\n",
       "      <th>63995</th>\n",
       "      <td>10.0</td>\n",
       "      <td>105.54</td>\n",
       "      <td>1.0</td>\n",
       "      <td>0.0</td>\n",
       "      <td>0.0</td>\n",
       "      <td>0.0</td>\n",
       "      <td>0.0</td>\n",
       "      <td>1.0</td>\n",
       "      <td>0.0</td>\n",
       "      <td>0.0</td>\n",
       "      <td>...</td>\n",
       "      <td>0.0</td>\n",
       "      <td>0.0</td>\n",
       "      <td>0.0</td>\n",
       "      <td>0.0</td>\n",
       "      <td>0.0</td>\n",
       "      <td>1.0</td>\n",
       "      <td>1</td>\n",
       "      <td>0.0</td>\n",
       "      <td>0.0</td>\n",
       "      <td>0.0</td>\n",
       "    </tr>\n",
       "    <tr>\n",
       "      <th>63996</th>\n",
       "      <td>5.0</td>\n",
       "      <td>38.91</td>\n",
       "      <td>0.0</td>\n",
       "      <td>1.0</td>\n",
       "      <td>1.0</td>\n",
       "      <td>0.0</td>\n",
       "      <td>0.0</td>\n",
       "      <td>1.0</td>\n",
       "      <td>1.0</td>\n",
       "      <td>0.0</td>\n",
       "      <td>...</td>\n",
       "      <td>0.0</td>\n",
       "      <td>0.0</td>\n",
       "      <td>0.0</td>\n",
       "      <td>0.0</td>\n",
       "      <td>1.0</td>\n",
       "      <td>0.0</td>\n",
       "      <td>1</td>\n",
       "      <td>0.0</td>\n",
       "      <td>0.0</td>\n",
       "      <td>0.0</td>\n",
       "    </tr>\n",
       "    <tr>\n",
       "      <th>63997</th>\n",
       "      <td>6.0</td>\n",
       "      <td>29.99</td>\n",
       "      <td>1.0</td>\n",
       "      <td>0.0</td>\n",
       "      <td>1.0</td>\n",
       "      <td>0.0</td>\n",
       "      <td>0.0</td>\n",
       "      <td>1.0</td>\n",
       "      <td>1.0</td>\n",
       "      <td>0.0</td>\n",
       "      <td>...</td>\n",
       "      <td>0.0</td>\n",
       "      <td>0.0</td>\n",
       "      <td>0.0</td>\n",
       "      <td>0.0</td>\n",
       "      <td>1.0</td>\n",
       "      <td>0.0</td>\n",
       "      <td>1</td>\n",
       "      <td>0.0</td>\n",
       "      <td>0.0</td>\n",
       "      <td>0.0</td>\n",
       "    </tr>\n",
       "    <tr>\n",
       "      <th>63998</th>\n",
       "      <td>1.0</td>\n",
       "      <td>552.94</td>\n",
       "      <td>1.0</td>\n",
       "      <td>0.0</td>\n",
       "      <td>1.0</td>\n",
       "      <td>0.0</td>\n",
       "      <td>1.0</td>\n",
       "      <td>0.0</td>\n",
       "      <td>0.0</td>\n",
       "      <td>0.0</td>\n",
       "      <td>...</td>\n",
       "      <td>0.0</td>\n",
       "      <td>1.0</td>\n",
       "      <td>0.0</td>\n",
       "      <td>1.0</td>\n",
       "      <td>0.0</td>\n",
       "      <td>0.0</td>\n",
       "      <td>2</td>\n",
       "      <td>0.0</td>\n",
       "      <td>0.0</td>\n",
       "      <td>0.0</td>\n",
       "    </tr>\n",
       "    <tr>\n",
       "      <th>63999</th>\n",
       "      <td>1.0</td>\n",
       "      <td>472.82</td>\n",
       "      <td>0.0</td>\n",
       "      <td>1.0</td>\n",
       "      <td>0.0</td>\n",
       "      <td>0.0</td>\n",
       "      <td>1.0</td>\n",
       "      <td>0.0</td>\n",
       "      <td>0.0</td>\n",
       "      <td>0.0</td>\n",
       "      <td>...</td>\n",
       "      <td>1.0</td>\n",
       "      <td>0.0</td>\n",
       "      <td>0.0</td>\n",
       "      <td>0.0</td>\n",
       "      <td>0.0</td>\n",
       "      <td>1.0</td>\n",
       "      <td>1</td>\n",
       "      <td>0.0</td>\n",
       "      <td>0.0</td>\n",
       "      <td>0.0</td>\n",
       "    </tr>\n",
       "  </tbody>\n",
       "</table>\n",
       "<p>64000 rows × 22 columns</p>\n",
       "</div>"
      ],
      "text/plain": [
       "       recency  history  mens  womens  newbie  zip_code_Rural  \\\n",
       "0         10.0   142.44   1.0     0.0     0.0             0.0   \n",
       "1          6.0   329.08   1.0     1.0     1.0             1.0   \n",
       "2          7.0   180.65   0.0     1.0     1.0             0.0   \n",
       "3          9.0   675.83   1.0     0.0     1.0             1.0   \n",
       "4          2.0    45.34   1.0     0.0     0.0             0.0   \n",
       "...        ...      ...   ...     ...     ...             ...   \n",
       "63995     10.0   105.54   1.0     0.0     0.0             0.0   \n",
       "63996      5.0    38.91   0.0     1.0     1.0             0.0   \n",
       "63997      6.0    29.99   1.0     0.0     1.0             0.0   \n",
       "63998      1.0   552.94   1.0     0.0     1.0             0.0   \n",
       "63999      1.0   472.82   0.0     1.0     0.0             0.0   \n",
       "\n",
       "       zip_code_Surburban  zip_code_Urban  history_segment_$0 - $100  \\\n",
       "0                     1.0             0.0                        0.0   \n",
       "1                     0.0             0.0                        0.0   \n",
       "2                     1.0             0.0                        0.0   \n",
       "3                     0.0             0.0                        0.0   \n",
       "4                     0.0             1.0                        1.0   \n",
       "...                   ...             ...                        ...   \n",
       "63995                 0.0             1.0                        0.0   \n",
       "63996                 0.0             1.0                        1.0   \n",
       "63997                 0.0             1.0                        1.0   \n",
       "63998                 1.0             0.0                        0.0   \n",
       "63999                 1.0             0.0                        0.0   \n",
       "\n",
       "       history_segment_$1,000 +  ...  history_segment_$350 - $500  \\\n",
       "0                           0.0  ...                          0.0   \n",
       "1                           0.0  ...                          0.0   \n",
       "2                           0.0  ...                          0.0   \n",
       "3                           0.0  ...                          0.0   \n",
       "4                           0.0  ...                          0.0   \n",
       "...                         ...  ...                          ...   \n",
       "63995                       0.0  ...                          0.0   \n",
       "63996                       0.0  ...                          0.0   \n",
       "63997                       0.0  ...                          0.0   \n",
       "63998                       0.0  ...                          0.0   \n",
       "63999                       0.0  ...                          1.0   \n",
       "\n",
       "       history_segment_$500 - $750  history_segment_$750 - $1,000  \\\n",
       "0                              0.0                            0.0   \n",
       "1                              0.0                            0.0   \n",
       "2                              0.0                            0.0   \n",
       "3                              1.0                            0.0   \n",
       "4                              0.0                            0.0   \n",
       "...                            ...                            ...   \n",
       "63995                          0.0                            0.0   \n",
       "63996                          0.0                            0.0   \n",
       "63997                          0.0                            0.0   \n",
       "63998                          1.0                            0.0   \n",
       "63999                          0.0                            0.0   \n",
       "\n",
       "       channel_Multichannel  channel_Phone  channel_Web  treatment  \\\n",
       "0                       0.0            1.0          0.0          2   \n",
       "1                       0.0            0.0          1.0          0   \n",
       "2                       0.0            0.0          1.0          2   \n",
       "3                       0.0            0.0          1.0          1   \n",
       "4                       0.0            0.0          1.0          2   \n",
       "...                     ...            ...          ...        ...   \n",
       "63995                   0.0            0.0          1.0          1   \n",
       "63996                   0.0            1.0          0.0          1   \n",
       "63997                   0.0            1.0          0.0          1   \n",
       "63998                   1.0            0.0          0.0          2   \n",
       "63999                   0.0            0.0          1.0          1   \n",
       "\n",
       "       target_visit  target_conversion  target_spend  \n",
       "0               0.0                0.0           0.0  \n",
       "1               0.0                0.0           0.0  \n",
       "2               0.0                0.0           0.0  \n",
       "3               0.0                0.0           0.0  \n",
       "4               0.0                0.0           0.0  \n",
       "...             ...                ...           ...  \n",
       "63995           0.0                0.0           0.0  \n",
       "63996           0.0                0.0           0.0  \n",
       "63997           0.0                0.0           0.0  \n",
       "63998           0.0                0.0           0.0  \n",
       "63999           0.0                0.0           0.0  \n",
       "\n",
       "[64000 rows x 22 columns]"
      ]
     },
     "execution_count": 273,
     "metadata": {},
     "output_type": "execute_result"
    }
   ],
   "source": [
    "result"
   ]
  },
  {
   "cell_type": "markdown",
   "id": "9b02ec99",
   "metadata": {},
   "source": [
    "# EDA"
   ]
  },
  {
   "cell_type": "code",
   "execution_count": 274,
   "id": "51490ee4",
   "metadata": {
    "scrolled": false
   },
   "outputs": [
    {
     "data": {
      "image/png": "[encoded data removed]",
      "text/plain": [
       "<Figure size 2160x3600 with 6 Axes>"
      ]
     },
     "metadata": {},
     "output_type": "display_data"
    }
   ],
   "source": [
    "zip_code = ['zip_code_Rural','zip_code_Surburban','zip_code_Urban']\n",
    "segment = ['history_segment_$0 - $100',\n",
    "       'history_segment_$1,000 +', 'history_segment_$100 - $200',\n",
    "       'history_segment_$200 - $350', 'history_segment_$350 - $500',\n",
    "       'history_segment_$500 - $750', 'history_segment_$750 - $1,000']\n",
    "channel = ['channel_Multichannel', 'channel_Phone', 'channel_Web']\n",
    "\n",
    "product = ['mens', 'womens']\n",
    "colors = ['#FF6B35','#F7C59F','#EFEFD0','#A8DADC','#457B9D','#00B2CA', 'indigo', 'hotpink']\n",
    "\n",
    "fig, [ax1, ax2, ax3, ax4, ax5, ax6] = plt.subplots(figsize = (30, 50), ncols = 1, nrows = 6)\n",
    "\n",
    "def num(li):\n",
    "    temp = []\n",
    "    for i in li:\n",
    "        number = result[i].sum()/len(result[i])\n",
    "        temp.append(number)\n",
    "    return temp\n",
    "\n",
    "ax1.pie(num(zip_code), labels = zip_code,shadow=False, startangle=90, autopct='%1.1f%%', colors =colors, textprops={'fontsize': 20})\n",
    "ax1.set_title('zip_code', fontsize = 30)\n",
    "\n",
    "ax2.pie(num(segment), labels = segment, shadow=False,  startangle=90, autopct='%1.1f%%', colors =colors,textprops={'fontsize': 20})\n",
    "ax2.set_title('segement', fontsize = 30)\n",
    "\n",
    "ax3.pie(num(channel), labels = channel, shadow=False,  startangle=90, autopct='%1.1f%%', colors =colors,textprops={'fontsize': 20})\n",
    "ax3.set_title('channel', fontsize = 30)\n",
    "\n",
    "ax4.pie(num(product), labels = product, shadow=False,  startangle=90, autopct='%1.1f%%', colors =colors,textprops={'fontsize': 20})\n",
    "ax4.set_title('product', fontsize = 30)\n",
    "\n",
    "ax4.pie(num(product), labels = product, shadow=False,  startangle=90, autopct='%1.1f%%', colors =colors,textprops={'fontsize': 20})\n",
    "ax4.set_title('product', fontsize = 30)\n",
    "\n",
    "temp = result['newbie'].sum()/len(result['newbie'])\n",
    "li = [temp, 1-temp]\n",
    "\n",
    "ax5.pie(li, labels = ['newbie','non_newbie'], shadow=False,  startangle=90, autopct='%1.1f%%', colors =colors,textprops={'fontsize': 20})\n",
    "ax5.set_title('newbie',fontsize = 30)\n",
    "\n",
    "li_t = []\n",
    "for i in range(3):\n",
    "    li_t.append(result['treatment'].value_counts()[i]/len(result['treatment']))\n",
    "\n",
    "ax6.pie(li_t, labels = ['Womens Mailing', 'Mens Mailing', 'Non Mailing'], shadow=False,  startangle=90, autopct='%1.1f%%', colors =colors,textprops={'fontsize': 20})\n",
    "ax6.set_title('Treatment',fontsize = 30)\n",
    "\n",
    "plt.show()"
   ]
  },
  {
   "cell_type": "code",
   "execution_count": 275,
   "id": "bb0084b0",
   "metadata": {},
   "outputs": [
    {
     "data": {
      "image/png": "[encoded data removed]",
      "text/plain": [
       "<Figure size 720x720 with 2 Axes>"
      ]
     },
     "metadata": {
      "needs_background": "light"
     },
     "output_type": "display_data"
    }
   ],
   "source": [
    "fig = plt.figure(figsize = (10,10))\n",
    "ax = fig.add_subplot(2,1,1)\n",
    "ax.bar(result['recency'].value_counts().index,result['recency'].value_counts().values, color = 'green',edgecolor = 'black', linewidth = 2)\n",
    "plt.xticks([i for i in range(1,13)])\n",
    "plt.title('recency', fontsize = 20)\n",
    "plt.xlabel('Month purchasing', fontsize = 15)\n",
    "\n",
    "ax = fig.add_subplot(2,1,2)\n",
    "ax.hist(result['history'], bins = 70, color ='green')\n",
    "plt.title('history', fontsize = 20)\n",
    "plt.xlabel('dollars', fontsize = 15)\n",
    "\n",
    "plt.tight_layout()\n",
    "plt.show()"
   ]
  },
  {
   "cell_type": "code",
   "execution_count": 276,
   "id": "d25effce",
   "metadata": {},
   "outputs": [
    {
     "data": {
      "text/plain": [
       "<AxesSubplot:xlabel='treatment', ylabel='target_conversion'>"
      ]
     },
     "execution_count": 276,
     "metadata": {},
     "output_type": "execute_result"
    },
    {
     "data": {
      "image/png": "[encoded data removed]",
      "text/plain": [
       "<Figure size 432x288 with 1 Axes>"
      ]
     },
     "metadata": {
      "needs_background": "light"
     },
     "output_type": "display_data"
    }
   ],
   "source": [
    "sns.barplot(x = 'treatment', y = 'target_conversion', data = result)"
   ]
  },
  {
   "cell_type": "code",
   "execution_count": 277,
   "id": "5f1ca438",
   "metadata": {},
   "outputs": [
    {
     "data": {
      "text/plain": [
       "<AxesSubplot:xlabel='treatment', ylabel='target_visit'>"
      ]
     },
     "execution_count": 277,
     "metadata": {},
     "output_type": "execute_result"
    },
    {
     "data": {
      "image/png": "[encoded data removed]",
      "text/plain": [
       "<Figure size 432x288 with 1 Axes>"
      ]
     },
     "metadata": {
      "needs_background": "light"
     },
     "output_type": "display_data"
    }
   ],
   "source": [
    "sns.barplot(x = 'treatment', y = 'target_visit', data = result)"
   ]
  },
  {
   "cell_type": "code",
   "execution_count": 278,
   "id": "14f3dc1c",
   "metadata": {},
   "outputs": [
    {
     "data": {
      "text/plain": [
       "<AxesSubplot:xlabel='treatment', ylabel='target_spend'>"
      ]
     },
     "execution_count": 278,
     "metadata": {},
     "output_type": "execute_result"
    },
    {
     "data": {
      "image/png": "[encoded data removed]",
      "text/plain": [
       "<Figure size 432x288 with 1 Axes>"
      ]
     },
     "metadata": {
      "needs_background": "light"
     },
     "output_type": "display_data"
    }
   ],
   "source": [
    "sns.barplot(x = 'treatment', y = 'target_spend', data = result)"
   ]
  },
  {
   "cell_type": "code",
   "execution_count": 279,
   "id": "4d309cdd",
   "metadata": {},
   "outputs": [],
   "source": [
    "# 참고:https://towardsdatascience.com/market-response-models-baf9f9913298\n",
    "def calc_uplift(df):\n",
    "    avg_order_value = 242  #result['history'].mean()\n",
    "    \n",
    "    #treatment를 받은 그룹 중 target_conversion을 한 사람들의 비율\n",
    "    base_conv = df[df.treatment == 0]['target_conversion'].mean()\n",
    "    male_conv = df[df.treatment == 1]['target_conversion'].mean()\n",
    "    female_conv = df[df.treatment == 2]['target_conversion'].mean()\n",
    "    \n",
    "    # treatment == 0인 그룹과 1, 2인 그룹과의 uplift 계산\n",
    "    male_conv_uplift = male_conv - base_conv\n",
    "    female_conv_uplift = female_conv - base_conv\n",
    "    \n",
    "    #남성 광고, 여성 광고 받은 고객들의 주문수 uplift 계산\n",
    "    male_order_uplift = male_conv_uplift * len(df[df.treatment == 1]['target_conversion'])\n",
    "    female_order_uplift = female_conv_uplift * len(df[df.treatment == 2]['target_conversion'])\n",
    "    \n",
    "    #남성 광고, 여성 광고 받은 고객들의 주문 총 가격 uplift 계산\n",
    "    male_rev_uplift = male_order_uplift * avg_order_value\n",
    "    female_rev_uplift = female_order_uplift * avg_order_value\n",
    "    \n",
    "    \n",
    "    print('Male Conversion Uplift: {0}%'.format(np.round(male_conv_uplift*100,2)))\n",
    "    print('Male Order Uplift: {0}'.format(np.round(male_order_uplift,2)))\n",
    "    print('Male Revenue Uplift: ${0}\\n'.format(np.round(male_rev_uplift,2)))\n",
    "          \n",
    "    print('--------------------- \\n')\n",
    "    print('Female Conversion Uplift: {0}%'.format(np.round(female_conv_uplift*100,2)))\n",
    "    print('Female Order Uplift: {0}'.format(np.round(female_order_uplift,2)))\n",
    "    print('Female Revenue Uplift: ${0}'.format(np.round(female_rev_uplift,2)))"
   ]
  },
  {
   "cell_type": "code",
   "execution_count": 280,
   "id": "da0d81d4",
   "metadata": {},
   "outputs": [
    {
     "name": "stdout",
     "output_type": "stream",
     "text": [
      "Male Conversion Uplift: 0.68%\n",
      "Male Order Uplift: 144.99\n",
      "Male Revenue Uplift: $35088.61\n",
      "\n",
      "--------------------- \n",
      "\n",
      "Female Conversion Uplift: 0.31%\n",
      "Female Order Uplift: 66.54\n",
      "Female Revenue Uplift: $16101.76\n"
     ]
    }
   ],
   "source": [
    "calc_uplift(result)"
   ]
  },
  {
   "cell_type": "markdown",
   "id": "d9fb63ce",
   "metadata": {},
   "source": [
    "# Uplift Score"
   ]
  },
  {
   "cell_type": "code",
   "execution_count": 281,
   "id": "e105c5a6",
   "metadata": {},
   "outputs": [],
   "source": [
    "new_result = result.copy()\n",
    "new_result['uplift classification'] = 0"
   ]
  },
  {
   "cell_type": "code",
   "execution_count": 282,
   "id": "e75eb4f0",
   "metadata": {},
   "outputs": [],
   "source": [
    "for i in range(len(new_result['treatment'])):\n",
    "    if (new_result['treatment'][i] == 0 and new_result['target_conversion'][i] == 0):\n",
    "        new_result['uplift classification'][i] = 0\n",
    "    elif (new_result['treatment'][i] == 0 and new_result['target_conversion'][i] > 0):\n",
    "        new_result['uplift classification'][i] = 1\n",
    "    elif (new_result['treatment'][i] == 1 and new_result['target_conversion'][i] == 0):\n",
    "        new_result['uplift classification'][i] = 2\n",
    "    elif (new_result['treatment'][i] == 1 and new_result['target_conversion'][i] > 0):\n",
    "        new_result['uplift classification'][i] = 3"
   ]
  },
  {
   "cell_type": "code",
   "execution_count": 283,
   "id": "4145d109",
   "metadata": {},
   "outputs": [
    {
     "data": {
      "text/plain": [
       "<AxesSubplot:xlabel='uplift classification', ylabel='count'>"
      ]
     },
     "execution_count": 283,
     "metadata": {},
     "output_type": "execute_result"
    },
    {
     "data": {
      "image/png": "[encoded data removed]",
      "text/plain": [
       "<Figure size 432x288 with 1 Axes>"
      ]
     },
     "metadata": {
      "needs_background": "light"
     },
     "output_type": "display_data"
    }
   ],
   "source": [
    "sns.countplot(x = 'uplift classification', data = new_result)"
   ]
  },
  {
   "cell_type": "code",
   "execution_count": 284,
   "id": "7e46cd39",
   "metadata": {},
   "outputs": [],
   "source": [
    "def order_cluster(cluster_field_name, target_field_name,df,ascending):\n",
    "    new_cluster_field_name = 'new_' + cluster_field_name\n",
    "    df_new = df.groupby(cluster_field_name)[target_field_name].mean().reset_index()\n",
    "    df_new = df_new.sort_values(by=target_field_name,ascending=ascending).reset_index(drop=True)\n",
    "    df_new['index'] = df_new.index\n",
    "    df_final = pd.merge(df,df_new[[cluster_field_name,'index']], on=cluster_field_name)\n",
    "    df_final = df_final.drop([cluster_field_name],axis=1)\n",
    "    df_final = df_final.rename(columns={\"index\":cluster_field_name})\n",
    "    return df_final"
   ]
  },
  {
   "cell_type": "markdown",
   "id": "bb9c6d48",
   "metadata": {},
   "source": [
    "##### 지불금액 별로 분류되어있지만, KMeans를 배웠으니 써본다."
   ]
  },
  {
   "cell_type": "code",
   "execution_count": 285,
   "id": "9b94b598",
   "metadata": {},
   "outputs": [],
   "source": [
    "kmeans = KMeans(n_clusters=5)\n",
    "kmeans.fit(new_result[['history']])\n",
    "new_result['history_cluster'] = kmeans.predict(new_result[['history']])\n",
    "new_result = order_cluster('history_cluster', 'history',new_result,True)\n",
    "df_model = new_result.drop(['treatment','target_conversion','target_spend','target_visit'],axis=1)\n",
    "df_model = pd.get_dummies(df_model)"
   ]
  },
  {
   "cell_type": "code",
   "execution_count": 286,
   "id": "63c18d96",
   "metadata": {},
   "outputs": [
    {
     "data": {
      "text/plain": [
       "0    32266\n",
       "1    17955\n",
       "2     9118\n",
       "3     3743\n",
       "4      918\n",
       "Name: history_cluster, dtype: int64"
      ]
     },
     "execution_count": 286,
     "metadata": {},
     "output_type": "execute_result"
    }
   ],
   "source": [
    "df_model['history_cluster'].value_counts()"
   ]
  },
  {
   "cell_type": "code",
   "execution_count": 287,
   "id": "9275069d",
   "metadata": {},
   "outputs": [],
   "source": [
    "X = df_model.drop(['uplift classification'],axis=1)\n",
    "y = df_model['uplift classification']\n",
    "X_train, X_test, y_train, y_test = train_test_split(X, y, test_size=0.2, random_state=56)\n",
    "# xgb_model = xgb.XGBClassifier().fit(X_train, y_train)\n",
    "# class_probs = xgb_model.predict_proba(X_test)"
   ]
  },
  {
   "cell_type": "code",
   "execution_count": 252,
   "id": "20abd158",
   "metadata": {},
   "outputs": [
    {
     "name": "stdout",
     "output_type": "stream",
     "text": [
      "Fitting 3 folds for each of 54 candidates, totalling 162 fits\n",
      "[02:04:44] WARNING: ..\\src\\learner.cc:541: \n",
      "Parameters: { max_leaf_nodes } might not be used.\n",
      "\n",
      "  This may not be accurate due to some parameters are only used in language bindings but\n",
      "  passed down to XGBoost core.  Or some parameters are not used but slip through this\n",
      "  verification. Please open an issue if you find above cases.\n",
      "\n",
      "\n",
      "[02:04:44] WARNING: ..\\src\\learner.cc:1061: Starting in XGBoost 1.3.0, the default evaluation metric used with the objective 'multi:softprob' was changed from 'merror' to 'mlogloss'. Explicitly set eval_metric if you'd like to restore the old behavior.\n",
      "{'eta': 0.1, 'max_depth': 3, 'max_leaf_nodes': 1, 'subsample': 0.7}\n"
     ]
    }
   ],
   "source": [
    "params = {'eta':[0.01,0.1], 'max_depth':[3,5,8], 'max_leaf_nodes':[1,2,4],'subsample':[0.5, 0.7, 0.9]}\n",
    "xgb_clf = xgb.XGBClassifier()\n",
    "xgb_grid = GridSearchCV(estimator = xgb_clf, param_grid = params ,cv = 3, verbose=2, n_jobs = -1)\n",
    "xgb_grid.fit(X_train, y_train)\n",
    "print(xgb_grid.best_params_)"
   ]
  },
  {
   "cell_type": "code",
   "execution_count": 288,
   "id": "eb957698",
   "metadata": {},
   "outputs": [
    {
     "name": "stdout",
     "output_type": "stream",
     "text": [
      "[02:10:16] WARNING: ..\\src\\learner.cc:541: \n",
      "Parameters: { max_leaf_nodes } might not be used.\n",
      "\n",
      "  This may not be accurate due to some parameters are only used in language bindings but\n",
      "  passed down to XGBoost core.  Or some parameters are not used but slip through this\n",
      "  verification. Please open an issue if you find above cases.\n",
      "\n",
      "\n",
      "[0]\tvalidation_0-mlogloss:1.30849\n",
      "[1]\tvalidation_0-mlogloss:1.24215\n",
      "[2]\tvalidation_0-mlogloss:1.18486\n",
      "[3]\tvalidation_0-mlogloss:1.13522\n",
      "[4]\tvalidation_0-mlogloss:1.09156\n",
      "[5]\tvalidation_0-mlogloss:1.05339\n",
      "[6]\tvalidation_0-mlogloss:1.01938\n",
      "[7]\tvalidation_0-mlogloss:0.98913\n",
      "[8]\tvalidation_0-mlogloss:0.96205\n",
      "[9]\tvalidation_0-mlogloss:0.93784\n",
      "[10]\tvalidation_0-mlogloss:0.91610\n",
      "[11]\tvalidation_0-mlogloss:0.89641\n",
      "[12]\tvalidation_0-mlogloss:0.87859\n",
      "[13]\tvalidation_0-mlogloss:0.86245\n",
      "[14]\tvalidation_0-mlogloss:0.84777\n",
      "[15]\tvalidation_0-mlogloss:0.83440\n",
      "[16]\tvalidation_0-mlogloss:0.82225\n",
      "[17]\tvalidation_0-mlogloss:0.81111\n",
      "[18]\tvalidation_0-mlogloss:0.80085\n",
      "[19]\tvalidation_0-mlogloss:0.79145\n",
      "[20]\tvalidation_0-mlogloss:0.78284\n",
      "[21]\tvalidation_0-mlogloss:0.77495\n",
      "[22]\tvalidation_0-mlogloss:0.76763\n",
      "[23]\tvalidation_0-mlogloss:0.76092\n",
      "[24]\tvalidation_0-mlogloss:0.75470\n",
      "[25]\tvalidation_0-mlogloss:0.74890\n",
      "[26]\tvalidation_0-mlogloss:0.74359\n",
      "[27]\tvalidation_0-mlogloss:0.73859\n",
      "[28]\tvalidation_0-mlogloss:0.73397\n",
      "[29]\tvalidation_0-mlogloss:0.72969\n",
      "[30]\tvalidation_0-mlogloss:0.72572\n",
      "[31]\tvalidation_0-mlogloss:0.72199\n",
      "[32]\tvalidation_0-mlogloss:0.71853\n",
      "[33]\tvalidation_0-mlogloss:0.71529\n",
      "[34]\tvalidation_0-mlogloss:0.71223\n",
      "[35]\tvalidation_0-mlogloss:0.70942\n",
      "[36]\tvalidation_0-mlogloss:0.70685\n",
      "[37]\tvalidation_0-mlogloss:0.70437\n",
      "[38]\tvalidation_0-mlogloss:0.70207\n",
      "[39]\tvalidation_0-mlogloss:0.69994\n",
      "[40]\tvalidation_0-mlogloss:0.69792\n",
      "[41]\tvalidation_0-mlogloss:0.69607\n",
      "[42]\tvalidation_0-mlogloss:0.69430\n",
      "[43]\tvalidation_0-mlogloss:0.69270\n",
      "[44]\tvalidation_0-mlogloss:0.69120\n",
      "[45]\tvalidation_0-mlogloss:0.68977\n",
      "[46]\tvalidation_0-mlogloss:0.68845\n",
      "[47]\tvalidation_0-mlogloss:0.68720\n",
      "[48]\tvalidation_0-mlogloss:0.68603\n",
      "[49]\tvalidation_0-mlogloss:0.68490\n",
      "[50]\tvalidation_0-mlogloss:0.68388\n",
      "[51]\tvalidation_0-mlogloss:0.68293\n",
      "[52]\tvalidation_0-mlogloss:0.68203\n",
      "[53]\tvalidation_0-mlogloss:0.68119\n",
      "[54]\tvalidation_0-mlogloss:0.68042\n",
      "[55]\tvalidation_0-mlogloss:0.67969\n",
      "[56]\tvalidation_0-mlogloss:0.67898\n",
      "[57]\tvalidation_0-mlogloss:0.67830\n",
      "[58]\tvalidation_0-mlogloss:0.67769\n",
      "[59]\tvalidation_0-mlogloss:0.67710\n",
      "[60]\tvalidation_0-mlogloss:0.67660\n",
      "[61]\tvalidation_0-mlogloss:0.67614\n",
      "[62]\tvalidation_0-mlogloss:0.67573\n",
      "[63]\tvalidation_0-mlogloss:0.67536\n",
      "[64]\tvalidation_0-mlogloss:0.67502\n",
      "[65]\tvalidation_0-mlogloss:0.67464\n",
      "[66]\tvalidation_0-mlogloss:0.67433\n",
      "[67]\tvalidation_0-mlogloss:0.67401\n",
      "[68]\tvalidation_0-mlogloss:0.67374\n",
      "[69]\tvalidation_0-mlogloss:0.67348\n",
      "[70]\tvalidation_0-mlogloss:0.67324\n",
      "[71]\tvalidation_0-mlogloss:0.67301\n",
      "[72]\tvalidation_0-mlogloss:0.67278\n",
      "[73]\tvalidation_0-mlogloss:0.67261\n",
      "[74]\tvalidation_0-mlogloss:0.67242\n",
      "[75]\tvalidation_0-mlogloss:0.67221\n",
      "[76]\tvalidation_0-mlogloss:0.67204\n",
      "[77]\tvalidation_0-mlogloss:0.67193\n",
      "[78]\tvalidation_0-mlogloss:0.67177\n",
      "[79]\tvalidation_0-mlogloss:0.67164\n",
      "[80]\tvalidation_0-mlogloss:0.67149\n",
      "[81]\tvalidation_0-mlogloss:0.67141\n",
      "[82]\tvalidation_0-mlogloss:0.67131\n",
      "[83]\tvalidation_0-mlogloss:0.67124\n",
      "[84]\tvalidation_0-mlogloss:0.67114\n",
      "[85]\tvalidation_0-mlogloss:0.67104\n",
      "[86]\tvalidation_0-mlogloss:0.67093\n",
      "[87]\tvalidation_0-mlogloss:0.67088\n",
      "[88]\tvalidation_0-mlogloss:0.67087\n",
      "[89]\tvalidation_0-mlogloss:0.67085\n",
      "[90]\tvalidation_0-mlogloss:0.67077\n",
      "[91]\tvalidation_0-mlogloss:0.67073\n",
      "[92]\tvalidation_0-mlogloss:0.67070\n",
      "[93]\tvalidation_0-mlogloss:0.67068\n",
      "[94]\tvalidation_0-mlogloss:0.67066\n",
      "[95]\tvalidation_0-mlogloss:0.67063\n",
      "[96]\tvalidation_0-mlogloss:0.67062\n",
      "[97]\tvalidation_0-mlogloss:0.67059\n",
      "[98]\tvalidation_0-mlogloss:0.67056\n",
      "[99]\tvalidation_0-mlogloss:0.67052\n"
     ]
    }
   ],
   "source": [
    "xgb_model = xgb.XGBClassifier(eta= 0.1 , max_leaf_nodes = 1, max_depth = 3, subsample = 0.7)\n",
    "evals = [(X_test, y_test)]\n",
    "\n",
    "xgb_model.fit(X_train, y_train, early_stopping_rounds=100, eval_metric =\"mlogloss\", eval_set = evals, verbose = True)\n",
    "\n",
    "class_probs = xgb_model.predict_proba(X_test)"
   ]
  },
  {
   "cell_type": "code",
   "execution_count": 289,
   "id": "1a8bac35",
   "metadata": {},
   "outputs": [
    {
     "data": {
      "text/plain": [
       "array([0.6589309 , 0.00355084, 0.33319944, 0.00431881], dtype=float32)"
      ]
     },
     "execution_count": 289,
     "metadata": {},
     "output_type": "execute_result"
    }
   ],
   "source": [
    "class_probs[0]"
   ]
  },
  {
   "cell_type": "code",
   "execution_count": 290,
   "id": "60e5814e",
   "metadata": {},
   "outputs": [],
   "source": [
    "overall_proba = xgb_model.predict_proba(df_model.drop(['uplift classification'],axis=1))\n",
    "#4가지 종류의 uplift score 구분\n",
    "df_model['proba_CN'] = overall_proba[:,0] \n",
    "df_model['proba_CR'] = overall_proba[:,1] \n",
    "df_model['proba_TN'] = overall_proba[:,2] \n",
    "df_model['proba_TR'] = overall_proba[:,3]\n",
    "#uplift score 계산\n",
    "df_model['uplift_score'] = df_model.eval('proba_CN + proba_TR - proba_TN - proba_CR')\n",
    "\n",
    "new_result['uplift_score'] = df_model['uplift_score']"
   ]
  },
  {
   "cell_type": "code",
   "execution_count": 291,
   "id": "81b229b2",
   "metadata": {},
   "outputs": [],
   "source": [
    "def calc_uplift(df):\n",
    "    avg_order_value = 242\n",
    "    \n",
    "    #treatment를 받은 그룹 중 target_conversion을 한 사람들의 비율\n",
    "    base_conv = df[df.treatment == 0]['target_conversion'].mean()\n",
    "    total_conv = df[df.treatment > 0]['target_conversion'].mean()\n",
    "\n",
    "    # treatment == 0인 그룹과 그렇지 않은 그룹과의 uplift 계산\n",
    "    total_conv_uplift = total_conv - base_conv\n",
    "\n",
    "    #광고 받은 고객들의 주문수 uplift 계산\n",
    "    total_order_uplift = total_conv_uplift * len(df[df.treatment > 0]['target_conversion'])\n",
    " \n",
    "    #광고 받은 고객들의 주문 총 가격 uplift 계산\n",
    "    total_rev_uplift = total_order_uplift * avg_order_value\n",
    "\n",
    "    print('total Conversion Uplift: {0}%'.format(np.round(total_conv_uplift*100,2)))\n",
    "    print('total Order Uplift: {0}'.format(np.round(total_order_uplift,2)))\n",
    "    print('total Revenue Uplift: ${0}\\n'.format(np.round(total_rev_uplift,2)))"
   ]
  },
  {
   "cell_type": "markdown",
   "id": "8367495c",
   "metadata": {},
   "source": [
    "상위 25퍼센트 uplift score를 이용하여 계산"
   ]
  },
  {
   "cell_type": "code",
   "execution_count": 292,
   "id": "ccb3776e",
   "metadata": {
    "scrolled": false
   },
   "outputs": [
    {
     "name": "stdout",
     "output_type": "stream",
     "text": [
      "total Conversion Uplift: 0.77%\n",
      "total Order Uplift: 78.79\n",
      "total Revenue Uplift: $19067.62\n",
      "\n"
     ]
    }
   ],
   "source": [
    "df_data_lift = new_result.copy()\n",
    "uplift_q_75 = df_data_lift.uplift_score.quantile(0.75)\n",
    "df_data_lift = df_data_lift[df_data_lift.uplift_score > uplift_q_75].reset_index(drop=True)\n",
    "calc_uplift(df_data_lift)"
   ]
  },
  {
   "cell_type": "markdown",
   "id": "ad176869",
   "metadata": {},
   "source": [
    "하위 25퍼센트 uplift score를 이용하여 계산"
   ]
  },
  {
   "cell_type": "code",
   "execution_count": 294,
   "id": "8ede36ad",
   "metadata": {},
   "outputs": [
    {
     "name": "stdout",
     "output_type": "stream",
     "text": [
      "total Conversion Uplift: 0.23%\n",
      "total Order Uplift: 25.92\n",
      "total Revenue Uplift: $6272.82\n",
      "\n"
     ]
    }
   ],
   "source": [
    "df_data_lift = new_result.copy()\n",
    "uplift_q_75 = df_data_lift.uplift_score.quantile(0.25)\n",
    "df_data_lift = df_data_lift[df_data_lift.uplift_score < uplift_q_75].reset_index(drop=True)\n",
    "calc_uplift(df_data_lift)"
   ]
  },
  {
   "cell_type": "code",
   "execution_count": null,
   "id": "bc3c283d",
   "metadata": {},
   "outputs": [],
   "source": []
  }
 ],
 "metadata": {
  "kernelspec": {
   "display_name": "Python 3 (ipykernel)",
   "language": "python",
   "name": "python3"
  },
  "language_info": {
   "codemirror_mode": {
    "name": "ipython",
    "version": 3
   },
   "file_extension": ".py",
   "mimetype": "text/x-python",
   "name": "python",
   "nbconvert_exporter": "python",
   "pygments_lexer": "ipython3",
   "version": "3.8.8"
  }
 },
 "nbformat": 4,
 "nbformat_minor": 5
}
